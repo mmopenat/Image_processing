{
  "nbformat": 4,
  "nbformat_minor": 0,
  "metadata": {
    "colab": {
      "provenance": [],
      "toc_visible": true,
      "authorship_tag": "ABX9TyNl4o8ZVoGcH1SMoERPjucE",
      "include_colab_link": true
    },
    "kernelspec": {
      "name": "python3",
      "display_name": "Python 3"
    },
    "language_info": {
      "name": "python"
    }
  },
  "cells": [
    {
      "cell_type": "markdown",
      "metadata": {
        "id": "view-in-github",
        "colab_type": "text"
      },
      "source": [
        "<a href=\"https://colab.research.google.com/github/mmopenat/Image_processing/blob/main/runtime.ipynb\" target=\"_parent\"><img src=\"https://colab.research.google.com/assets/colab-badge.svg\" alt=\"Open In Colab\"/></a>"
      ]
    },
    {
      "cell_type": "code",
      "source": [
        "import pandas as pd\n",
        "\n",
        "# Load the data with manual splitting\n",
        "file_path = '/content/GERM_data.csv'\n",
        "germ_data = pd.read_csv(file_path, delimiter='\\t', engine='python')\n",
        "\n",
        "# Manually split the single column into multiple columns using tab separator\n",
        "germ_data = germ_data.iloc[:, 0].str.split('\\t', expand=True)\n",
        "\n",
        "# Assign meaningful column names based on your provided column description\n",
        "germ_data.columns = ['Country', 'REGION_1F2A', 'sitename_2ED0', 'ATOLL_ID_7C7A', 'devicename_2D2E',\n",
        "                     'devicetype_ACF9', 'deviceIpAddress_AC55', 'deviceport_899E', 'LastResponse_8A12',\n",
        "                     'Online_4B65', 'Online_Summary_93D5', 'Gen_Engine_Starts_199A',\n",
        "                     'Gen_Engine_Runtime_Hrs_B29E', 'Gen_Fuel_Level_F6F2', 'Gen_Bat_Voltage_8DB4',\n",
        "                     'Gen_Alt_Voltage_2338']\n",
        "\n",
        "# Clean the data by removing extra quotes and whitespace\n",
        "germ_data_cleaned = germ_data.apply(lambda x: x.str.replace('\"', '').str.strip() if x.dtype == \"object\" else x)\n",
        "\n",
        "# Convert the relevant runtime column to numeric for calculation\n",
        "germ_data_cleaned['Gen_Engine_Runtime_Hrs_B29E'] = pd.to_numeric(germ_data_cleaned['Gen_Engine_Runtime_Hrs_B29E'], errors='coerce')\n",
        "\n",
        "# Group the data by region and generator (sitename) and sum the runtime\n",
        "runtime_per_region_generator_cleaned = germ_data_cleaned.groupby(['REGION_1F2A', 'sitename_2ED0'])['Gen_Engine_Runtime_Hrs_B29E'].sum()\n",
        "\n",
        "# Save the result to an Excel file in the current working directory\n",
        "output_file_path = 'runtime_per_region_generator.xlsx'\n",
        "runtime_per_region_generator_cleaned.to_excel(output_file_path, sheet_name='Runtime_per_Region_Generator')\n",
        "\n",
        "# Provide the file path for download\n",
        "output_file_path\n",
        "\n"
      ],
      "metadata": {
        "colab": {
          "base_uri": "https://localhost:8080/",
          "height": 36
        },
        "id": "XtkCzGD_qF3X",
        "outputId": "021725d0-8325-46af-a03a-b5df152e1774"
      },
      "execution_count": null,
      "outputs": [
        {
          "output_type": "execute_result",
          "data": {
            "text/plain": [
              "'runtime_per_region_generator.xlsx'"
            ],
            "application/vnd.google.colaboratory.intrinsic+json": {
              "type": "string"
            }
          },
          "metadata": {},
          "execution_count": 11
        }
      ]
    },
    {
      "cell_type": "code",
      "source": [
        "import pandas as pd\n",
        "\n",
        "# Load the data with manual splitting\n",
        "file_path = '/content/GERM_data.csv'\n",
        "germ_data = pd.read_csv(file_path, delimiter='\\t', engine='python')\n",
        "\n",
        "# Manually split the single column into multiple columns using tab separator\n",
        "germ_data = germ_data.iloc[:, 0].str.split('\\t', expand=True)\n",
        "\n",
        "# Assign meaningful column names based on your provided column description\n",
        "germ_data.columns = ['Country', 'REGION_1F2A', 'sitename_2ED0', 'ATOLL_ID_7C7A', 'devicename_2D2E',\n",
        "                     'devicetype_ACF9', 'deviceIpAddress_AC55', 'deviceport_899E', 'LastResponse_8A12',\n",
        "                     'Online_4B65', 'Online_Summary_93D5', 'Gen_Engine_Starts_199A',\n",
        "                     'Gen_Engine_Runtime_Hrs_B29E', 'Gen_Fuel_Level_F6F2', 'Gen_Bat_Voltage_8DB4',\n",
        "                     'Gen_Alt_Voltage_2338']\n",
        "\n",
        "# Clean the data by removing extra quotes and whitespace\n",
        "germ_data_cleaned = germ_data.apply(lambda x: x.str.replace('\"', '').str.strip() if x.dtype == \"object\" else x)\n",
        "\n",
        "# Convert the relevant runtime column to numeric for calculation\n",
        "germ_data_cleaned['Gen_Engine_Runtime_Hrs_B29E'] = pd.to_numeric(germ_data_cleaned['Gen_Engine_Runtime_Hrs_B29E'], errors='coerce')\n",
        "\n",
        "# Convert the 'LastResponse_8A12' column to datetime format for proper date handling\n",
        "germ_data_cleaned['LastResponse_8A12'] = pd.to_datetime(germ_data_cleaned['LastResponse_8A12'], errors='coerce')\n",
        "\n",
        "# Group the data by region and generator (sitename) and get the sum of runtime and the most recent response date\n",
        "runtime_per_region_generator_dates = germ_data_cleaned.groupby(['REGION_1F2A', 'sitename_2ED0']).agg({\n",
        "    'Gen_Engine_Runtime_Hrs_B29E': 'sum',\n",
        "    'LastResponse_8A12': 'max'  # Get the most recent date for each generator\n",
        "})\n",
        "\n",
        "# Save the result to an Excel file in the current working directory\n",
        "output_file_path = 'runtime_per_region_generator_with_dates.xlsx'\n",
        "runtime_per_region_generator_dates.to_excel(output_file_path, sheet_name='Runtime_per_Region_Generator')\n",
        "\n",
        "# Provide the file path for download\n",
        "output_file_path\n"
      ],
      "metadata": {
        "colab": {
          "base_uri": "https://localhost:8080/",
          "height": 36
        },
        "id": "r1hMxOsr5w0H",
        "outputId": "ed652483-8130-4664-e1c0-4c74df9c5526"
      },
      "execution_count": null,
      "outputs": [
        {
          "output_type": "execute_result",
          "data": {
            "text/plain": [
              "'runtime_per_region_generator_with_dates.xlsx'"
            ],
            "application/vnd.google.colaboratory.intrinsic+json": {
              "type": "string"
            }
          },
          "metadata": {},
          "execution_count": 12
        }
      ]
    },
    {
      "cell_type": "code",
      "source": [
        "import pandas as pd\n",
        "\n",
        "# Load the data with manual splitting\n",
        "file_path = '/content/GERM_data.csv'\n",
        "germ_data = pd.read_csv(file_path, delimiter='\\t', engine='python')\n",
        "\n",
        "# Manually split the single column into multiple columns using tab separator\n",
        "germ_data = germ_data.iloc[:, 0].str.split('\\t', expand=True)\n",
        "\n",
        "# Assign meaningful column names based on your provided column description\n",
        "germ_data.columns = ['Country', 'REGION_1F2A', 'sitename_2ED0', 'ATOLL_ID_7C7A', 'devicename_2D2E',\n",
        "                     'devicetype_ACF9', 'deviceIpAddress_AC55', 'deviceport_899E', 'LastResponse_8A12',\n",
        "                     'Online_4B65', 'Online_Summary_93D5', 'Gen_Engine_Starts_199A',\n",
        "                     'Gen_Engine_Runtime_Hrs_B29E', 'Gen_Fuel_Level_F6F2', 'Gen_Bat_Voltage_8DB4',\n",
        "                     'Gen_Alt_Voltage_2338']\n",
        "\n",
        "# Clean the data by removing extra quotes and whitespace\n",
        "germ_data_cleaned = germ_data.apply(lambda x: x.str.replace('\"', '').str.strip() if x.dtype == \"object\" else x)\n",
        "\n",
        "# Convert the 'Gen_Engine_Runtime_Hrs_B29E' to numeric\n",
        "germ_data_cleaned['Gen_Engine_Runtime_Hrs_B29E'] = pd.to_numeric(germ_data_cleaned['Gen_Engine_Runtime_Hrs_B29E'], errors='coerce')\n",
        "\n",
        "# Convert the 'LastResponse_8A12' to datetime format for proper date handling\n",
        "germ_data_cleaned['LastResponse_8A12'] = pd.to_datetime(germ_data_cleaned['LastResponse_8A12'], errors='coerce')\n",
        "\n",
        "# Sort the data by generator and date\n",
        "germ_data_cleaned = germ_data_cleaned.sort_values(by=['sitename_2ED0', 'LastResponse_8A12'])\n",
        "\n",
        "# Group the data by sitename (generator) and calculate the difference in runtime for consecutive rows (this will give daily runtime)\n",
        "germ_data_cleaned['Daily_Runtime_Hrs'] = germ_data_cleaned.groupby('sitename_2ED0')['Gen_Engine_Runtime_Hrs_B29E'].diff()\n",
        "\n",
        "# Drop any rows without valid runtime differences (e.g., the first row for each generator)\n",
        "germ_data_cleaned = germ_data_cleaned.dropna(subset=['Daily_Runtime_Hrs'])\n",
        "\n",
        "# Now group by both generator and date to calculate total runtime per day\n",
        "germ_data_cleaned['date'] = germ_data_cleaned['LastResponse_8A12'].dt.date\n",
        "runtime_per_day = germ_data_cleaned.groupby(['sitename_2ED0', 'date'])['Daily_Runtime_Hrs'].sum()\n",
        "\n",
        "# Save the result to an Excel file\n",
        "output_file_path = 'runtime_per_day.xlsx'\n",
        "runtime_per_day.to_excel(output_file_path, sheet_name='Runtime_per_Day')\n",
        "\n",
        "# Provide the file path for download\n",
        "output_file_path\n"
      ],
      "metadata": {
        "id": "fotoppsi8nK7",
        "outputId": "4c808a11-c41a-4b32-e4a1-7c7a7d386379",
        "colab": {
          "base_uri": "https://localhost:8080/",
          "height": 36
        }
      },
      "execution_count": null,
      "outputs": [
        {
          "output_type": "execute_result",
          "data": {
            "text/plain": [
              "'runtime_per_day.xlsx'"
            ],
            "application/vnd.google.colaboratory.intrinsic+json": {
              "type": "string"
            }
          },
          "metadata": {},
          "execution_count": 13
        }
      ]
    }
  ]
}