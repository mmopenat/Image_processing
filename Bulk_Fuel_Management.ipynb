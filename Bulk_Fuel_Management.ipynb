{
  "nbformat": 4,
  "nbformat_minor": 0,
  "metadata": {
    "colab": {
      "provenance": [],
      "authorship_tag": "ABX9TyMhJLhXy0d8nrr4Pf0ur96r",
      "include_colab_link": true
    },
    "kernelspec": {
      "name": "python3",
      "display_name": "Python 3"
    },
    "language_info": {
      "name": "python"
    }
  },
  "cells": [
    {
      "cell_type": "markdown",
      "metadata": {
        "id": "view-in-github",
        "colab_type": "text"
      },
      "source": [
        "<a href=\"https://colab.research.google.com/github/mmopenat/Image_processing/blob/main/Bulk_Fuel_Management.ipynb\" target=\"_parent\"><img src=\"https://colab.research.google.com/assets/colab-badge.svg\" alt=\"Open In Colab\"/></a>"
      ]
    },
    {
      "cell_type": "code",
      "execution_count": 4,
      "metadata": {
        "colab": {
          "base_uri": "https://localhost:8080/"
        },
        "id": "NvPLbZxFxCln",
        "outputId": "7dbec2a2-c49c-4885-c7b5-7f3dd4c0b397"
      },
      "outputs": [
        {
          "output_type": "stream",
          "name": "stdout",
          "text": [
            "  Transaction Date QUANTITY   Amount Region Registration  \\\n",
            "0       2024/05/01      559  R12 390    KZN       EAS014   \n",
            "1       2024/05/01      500  R12 065    KZN       EAS011   \n",
            "2       2024/05/01      500  R12 065    KZN       EAS011   \n",
            "3       2024/05/01      500  R12 215    KZN       EAS013   \n",
            "4       2024/05/01      500  R12 080    KZN       EAS018   \n",
            "\n",
            "             Merchant Name  \n",
            "0   JABULA SERVICE STATION  \n",
            "1  HERMENS SERVICE STATION  \n",
            "2  HERMENS SERVICE STATION  \n",
            "3      SHELL MOSES MABHIDA  \n",
            "4         ENGEN AT ESSACKS  \n",
            "         Unnamed: 0 5 158 730   R118 683 940 Unnamed: 3    Unnamed: 4  \\\n",
            "0  Transaction Date   QUANTITY       Amount      Region  Registration   \n",
            "1        2024/04/01     300,00    R7 497,00         EAS     VDCBB06EC   \n",
            "2        2024/04/01     500,00   R12 430,00         EAS     VDCBB10EC   \n",
            "3        2024/04/01     500,00   R12 430,00         EAS     VDCBB05EC   \n",
            "4        2024/04/01     363,93    R9 000,00         LIM    VDCBB04LIM   \n",
            "\n",
            "     Unnamed: 5                Unnamed: 6  Unnamed: 7  \n",
            "0  Registration             Merchant Name         NaN  \n",
            "1     VDCBB06EC  NORTH CREST FUEL STATION         4.0  \n",
            "2     VDCBB10EC             CALTEX KILBRO         4.0  \n",
            "3     VDCBB05EC             CALTEX KILBRO         4.0  \n",
            "4    VDCBB04LIM            CESSNYL CALTEX         4.0  \n",
            "   Unnamed: 0 6 220 331   R129 607 215 Unnamed: 3    Unnamed: 4    Unnamed: 5  \\\n",
            "0     TX_DATE   QUANTITY    VOUCH_AMT      REGION     INV_AMNT   Registration   \n",
            "1  2024/04/01     485,00   R10 797,42         SGA   R12 158,95     VDCBB19SGS   \n",
            "2  2024/04/01     503,47   R11 208,60         SGA   R12 466,00     VDCBB22SGS   \n",
            "3  2024/04/01     556,70   R12 752,71         LIM   R14 552,08     VDCBB01LIM   \n",
            "4  2024/04/01     211,33    R4 704,77         SGA    R5 374,12     VDCBB14SGS   \n",
            "\n",
            "           Unnamed: 6  Unnamed: 7  \n",
            "0       Merchant Name         NaN  \n",
            "1  Sasol Simon Bekker         4.0  \n",
            "2   Sasol Vereeniging         4.0  \n",
            "3        Sasol Agatha         4.0  \n",
            "4     Sasol Stormvoel         4.0  \n"
          ]
        }
      ],
      "source": [
        "import pandas as pd\n",
        "\n",
        "# Use the correct delimiter and engine\n",
        "absa_df = pd.read_csv(\"/content/ABSA.csv\", delimiter=\";\", engine=\"python\", on_bad_lines=\"skip\")\n",
        "caltex_df = pd.read_csv(\"/content/Caltex.csv\", delimiter=\";\", engine=\"python\", on_bad_lines=\"skip\")\n",
        "sasol_df = pd.read_csv(\"/content/Sasol.csv\", delimiter=\";\", engine=\"python\", on_bad_lines=\"skip\")\n",
        "\n",
        "# Preview the data\n",
        "print(absa_df.head())\n",
        "print(caltex_df.head())\n",
        "print(sasol_df.head())\n",
        "\n"
      ]
    },
    {
      "cell_type": "code",
      "source": [
        "import pandas as pd\n",
        "\n",
        "# Load and clean the ABSA file\n",
        "absa_df = pd.read_csv(\"/content/ABSA.csv\", delimiter=\";\", engine=\"python\", on_bad_lines=\"skip\")\n",
        "\n",
        "# Standardize column names\n",
        "absa_df.columns = [col.strip() for col in absa_df.columns]\n",
        "\n",
        "# Identify columns\n",
        "date_col = [col for col in absa_df.columns if 'date' in col.lower()][0]\n",
        "region_col = [col for col in absa_df.columns if 'region' in col.lower()][0]\n",
        "quantity_col = [col for col in absa_df.columns if 'quantity' in col.lower()][0]\n",
        "\n",
        "# Convert data types\n",
        "absa_df[date_col] = pd.to_datetime(absa_df[date_col], errors='coerce')\n",
        "absa_df[quantity_col] = pd.to_numeric(absa_df[quantity_col], errors='coerce')\n",
        "\n",
        "# Extract month\n",
        "absa_df['Month'] = absa_df[date_col].dt.to_period('M')\n",
        "\n",
        "# Group and summarize\n",
        "summary = absa_df.groupby([region_col, 'Month'])[quantity_col].sum().reset_index()\n",
        "summary.columns = ['Region', 'Month', 'Total Quantity']\n",
        "\n",
        "# Show result\n",
        "print(summary.head())\n",
        "\n",
        "# Save to CSV\n",
        "summary.to_csv(\"/content/ABSA_Quantity_Summary.csv\", index=False)\n",
        "\n"
      ],
      "metadata": {
        "colab": {
          "base_uri": "https://localhost:8080/"
        },
        "id": "9c0IRwr-1ije",
        "outputId": "c221015d-0f26-434d-b850-419a24283526"
      },
      "execution_count": 7,
      "outputs": [
        {
          "output_type": "stream",
          "name": "stdout",
          "text": [
            "  Region    Month  Total Quantity\n",
            "0    CEN  2024-05         80402.0\n",
            "1    CEN  2024-06         62048.0\n",
            "2    CEN  2024-07         51699.0\n",
            "3    CEN  2024-08             0.0\n",
            "4    CEN  2024-09             0.0\n"
          ]
        }
      ]
    },
    {
      "cell_type": "code",
      "source": [],
      "metadata": {
        "id": "H5P95DBqClm2"
      },
      "execution_count": null,
      "outputs": []
    },
    {
      "cell_type": "code",
      "source": [
        "import pandas as pd\n",
        "\n",
        "# Assuming you already have absa_summary from previous steps\n",
        "absa_pivot = absa_summary.pivot(index='Month', columns='Region', values='Total Quantity')\n",
        "\n",
        "# Rename columns to match the format: \"REGION ABSA\"\n",
        "absa_pivot.columns = [f\"{region} ABSA\" for region in absa_pivot.columns]\n",
        "\n",
        "# Add a Total column\n",
        "absa_pivot[\"Total ABSA\"] = absa_pivot.sum(axis=1)\n",
        "\n",
        "# Reset index and format the Month\n",
        "absa_formatted = absa_pivot.reset_index()\n",
        "absa_formatted['Month'] = absa_formatted['Month'].dt.strftime('%b-%y')\n",
        "\n",
        "# Save to CSV\n",
        "absa_formatted.to_csv(\"/content/ABSA_Formatted_Summary.csv\", index=False)\n",
        "\n",
        "# Display the result\n",
        "print(absa_formatted.head())\n",
        "\n"
      ],
      "metadata": {
        "colab": {
          "base_uri": "https://localhost:8080/"
        },
        "id": "03gGR4k93I7i",
        "outputId": "8c0cbd32-c9fe-45d5-d877-23cbd7aa533c"
      },
      "execution_count": 9,
      "outputs": [
        {
          "output_type": "stream",
          "name": "stdout",
          "text": [
            "    Month  CEN ABSA  EAS ABSA  KZN ABSA  LIM ABSA  MPU ABSA  NGA ABSA  \\\n",
            "0  May-24   80402.0   58024.0  134659.0    7585.0    4334.0   35361.0   \n",
            "1  Jun-24   62048.0   44935.0  126461.0    5852.0    4609.0   13300.0   \n",
            "2  Jul-24   51699.0   57999.0  116951.0    6683.0    2875.0    5821.0   \n",
            "3  Aug-24       0.0       0.0       0.0       0.0       0.0       0.0   \n",
            "4  Sep-24       0.0       0.0       0.0       0.0       0.0       0.0   \n",
            "\n",
            "   SGA ABSA  WES ABSA  Total ABSA  \n",
            "0    1877.0    8071.0    330313.0  \n",
            "1       NaN    6607.0    263812.0  \n",
            "2       NaN    6859.0    248887.0  \n",
            "3       NaN       0.0         0.0  \n",
            "4       NaN       0.0         0.0  \n"
          ]
        }
      ]
    },
    {
      "cell_type": "code",
      "source": [
        "import pandas as pd\n",
        "\n",
        "# Load Caltex file with no header and assign custom column names\n",
        "caltex_df = pd.read_csv(\n",
        "    \"/content/Caltex.csv\",\n",
        "    delimiter=\";\",\n",
        "    engine=\"python\",\n",
        "    header=None,          # tells pandas there is no header\n",
        "    names=['Transaction Date', 'Quantity', 'Amount', 'Region', 'Vehicle No', 'Internal Ref', 'Merchant Name', 'Line No'],\n",
        "    on_bad_lines=\"skip\"\n",
        ")\n",
        "\n",
        "# Clean and convert data\n",
        "caltex_df['Transaction Date'] = pd.to_datetime(caltex_df['Transaction Date'], errors='coerce')\n",
        "caltex_df['Quantity'] = pd.to_numeric(caltex_df['Quantity'].str.replace(',', ''), errors='coerce')  # handle comma as decimal\n",
        "\n",
        "# Extract month\n",
        "caltex_df['Month'] = caltex_df['Transaction Date'].dt.to_period('M')\n",
        "\n",
        "# Group and summarize\n",
        "caltex_summary = caltex_df.groupby(['Region', 'Month'])['Quantity'].sum().reset_index()\n",
        "caltex_summary.columns = ['Region', 'Month', 'Total Quantity']\n",
        "\n",
        "# Save to CSV\n",
        "caltex_summary.to_csv(\"/content/Caltex_Quantity_Summary.csv\", index=False)\n",
        "\n",
        "# Show result\n",
        "print(caltex_summary.head())\n",
        "\n"
      ],
      "metadata": {
        "colab": {
          "base_uri": "https://localhost:8080/"
        },
        "id": "8TdH0ezX3pRY",
        "outputId": "2b41f82c-809b-4f1f-c61a-e35321334414"
      },
      "execution_count": 23,
      "outputs": [
        {
          "output_type": "stream",
          "name": "stdout",
          "text": [
            "  Region    Month  Total Quantity\n",
            "0    CEN  2023-10       1061839.0\n",
            "1    CEN  2023-11        484801.0\n",
            "2    CEN  2023-12        268327.0\n",
            "3    CEN  2024-01        806452.0\n",
            "4    CEN  2024-02        272050.0\n"
          ]
        },
        {
          "output_type": "stream",
          "name": "stderr",
          "text": [
            "<ipython-input-23-4ccbf8108bd9>:14: UserWarning: Could not infer format, so each element will be parsed individually, falling back to `dateutil`. To ensure parsing is consistent and as-expected, please specify a format.\n",
            "  caltex_df['Transaction Date'] = pd.to_datetime(caltex_df['Transaction Date'], errors='coerce')\n"
          ]
        }
      ]
    },
    {
      "cell_type": "code",
      "source": [
        "import pandas as pd\n",
        "\n",
        "# Assuming you already have absa_summary from previous steps\n",
        "caltex_pivot = caltex_summary.pivot(index='Month', columns='Region', values='Total Quantity')\n",
        "\n",
        "# Rename columns to match the format: \"REGION ABSA\"\n",
        "caltex_pivot.columns = [f\"{region} Caltex\" for region in caltex_pivot.columns]\n",
        "\n",
        "# Add a Total column\n",
        "caltex_pivot[\"Total Caltex\"] = caltex_pivot.sum(axis=1)\n",
        "\n",
        "# Reset index and format the Month\n",
        "caltex_formatted = caltex_pivot.reset_index()\n",
        "caltex_formatted['Month'] = caltex_formatted['Month'].dt.strftime('%b-%y')\n",
        "\n",
        "# Save to CSV\n",
        "caltex_formatted.to_csv(\"/content/Caltex_Formatted_Summary.csv\", index=False)\n",
        "\n",
        "# Display the result\n",
        "print(caltex_formatted.head())"
      ],
      "metadata": {
        "colab": {
          "base_uri": "https://localhost:8080/"
        },
        "id": "1Fkg9Vlq9kcf",
        "outputId": "e457ebfa-e55b-46ea-848c-fcb0ff3cda5c"
      },
      "execution_count": 25,
      "outputs": [
        {
          "output_type": "stream",
          "name": "stdout",
          "text": [
            "    Month  CEN Caltex  EAS Caltex  KZN Caltex  LIM Caltex  MPU Caltex  \\\n",
            "0  Oct-23   1061839.0   5172796.0   2010381.0   3414719.0   5130349.0   \n",
            "1  Nov-23    484801.0   5598575.0   2431072.0   4311682.0   5433695.0   \n",
            "2  Dec-23    268327.0   4913967.0   2089665.0   3229298.0   5883828.0   \n",
            "3  Jan-24    806452.0   4664417.0   1859652.0   3900804.0   6100247.0   \n",
            "4  Feb-24    272050.0   3696591.0   2906263.0   5328909.0   6128821.0   \n",
            "\n",
            "   NGA Caltex  SGA Caltex  SGC Caltex  SGS Caltex  WES Caltex  Total Caltex  \n",
            "0    752743.0   1474618.0         NaN         NaN    779953.0    19797398.0  \n",
            "1   1010143.0   1564001.0         NaN         NaN   1303225.0    22137194.0  \n",
            "2   1726400.0   1708009.0         NaN         NaN    997788.0    20817282.0  \n",
            "3   1778485.0   1506617.0     16687.0     30000.0   2239911.0    22903272.0  \n",
            "4   1509140.0   1428181.0    100521.0    152827.0   2746046.0    24269349.0  \n"
          ]
        }
      ]
    },
    {
      "cell_type": "code",
      "source": [
        "import pandas as pd\n",
        "\n",
        "# Load and clean the Caltex file (no header row)\n",
        "caltex_df = pd.read_csv(\n",
        "    \"/content/Caltex.csv\",\n",
        "    delimiter=\";\",\n",
        "    engine=\"python\",\n",
        "    header=None,\n",
        "    names=[\n",
        "        'Transaction Date', 'Quantity', 'Amount', 'Region',\n",
        "        'Vehicle No', 'Internal Ref', 'Merchant Name', 'Line No'\n",
        "    ],\n",
        "    on_bad_lines=\"skip\"\n",
        ")\n",
        "\n",
        "# Standardize column names (just in case)\n",
        "caltex_df.columns = [col.strip() for col in caltex_df.columns]\n",
        "\n",
        "# Convert data types\n",
        "caltex_df['Transaction Date'] = pd.to_datetime(caltex_df['Transaction Date'], errors='coerce')\n",
        "caltex_df['Quantity'] = pd.to_numeric(caltex_df['Quantity'].str.replace(',', ''), errors='coerce')  # Remove commas\n",
        "\n",
        "# Extract month\n",
        "caltex_df['Month'] = caltex_df['Transaction Date'].dt.to_period('M')\n",
        "\n",
        "# Group and summarize\n",
        "summary = caltex_df.groupby(['Region', 'Month'])['Quantity'].sum().reset_index()\n",
        "summary.columns = ['Region', 'Month', 'Total Quantity']\n",
        "\n",
        "# Show result\n",
        "print(summary.head())\n",
        "\n",
        "# Save to CSV\n",
        "summary.to_csv(\"/content/Caltex_Quantity_Summary.csv\", index=False)\n"
      ],
      "metadata": {
        "colab": {
          "base_uri": "https://localhost:8080/"
        },
        "id": "jlT5BgHWCqAT",
        "outputId": "a75b571a-82fc-45d3-f5a4-ded9cf583f99"
      },
      "execution_count": 26,
      "outputs": [
        {
          "output_type": "stream",
          "name": "stdout",
          "text": [
            "  Region    Month  Total Quantity\n",
            "0    CEN  2023-10       1061839.0\n",
            "1    CEN  2023-11        484801.0\n",
            "2    CEN  2023-12        268327.0\n",
            "3    CEN  2024-01        806452.0\n",
            "4    CEN  2024-02        272050.0\n"
          ]
        },
        {
          "output_type": "stream",
          "name": "stderr",
          "text": [
            "<ipython-input-26-2d1bb4cf678e>:20: UserWarning: Could not infer format, so each element will be parsed individually, falling back to `dateutil`. To ensure parsing is consistent and as-expected, please specify a format.\n",
            "  caltex_df['Transaction Date'] = pd.to_datetime(caltex_df['Transaction Date'], errors='coerce')\n"
          ]
        }
      ]
    },
    {
      "cell_type": "code",
      "source": [
        "import pandas as pd\n",
        "\n",
        "# Load Sasol file (update the path if needed)\n",
        "sasol_df = pd.read_csv(\n",
        "    \"/content/Sasol.csv\",\n",
        "    delimiter=\";\",\n",
        "    engine=\"python\",\n",
        "    header=None,\n",
        "    names=[\n",
        "        'Transaction Date', 'Quantity', 'Amount', 'Region',\n",
        "        'Vehicle No', 'Internal Ref', 'Merchant Name', 'Line No'\n",
        "    ],\n",
        "    on_bad_lines=\"skip\"\n",
        ")\n",
        "\n",
        "# Convert types\n",
        "sasol_df['Transaction Date'] = pd.to_datetime(sasol_df['Transaction Date'], errors='coerce')\n",
        "sasol_df['Quantity'] = pd.to_numeric(sasol_df['Quantity'].str.replace(',', ''), errors='coerce')\n",
        "\n",
        "# Extract month\n",
        "sasol_df['Month'] = sasol_df['Transaction Date'].dt.to_period('M')\n",
        "\n",
        "# Group and summarize\n",
        "sasol_summary = sasol_df.groupby(['Region', 'Month'])['Quantity'].sum().reset_index()\n",
        "sasol_summary.columns = ['Region', 'Month', 'Total Quantity']\n",
        "\n",
        "# Pivot the summary\n",
        "sasol_pivot = sasol_summary.pivot(index='Month', columns='Region', values='Total Quantity')\n",
        "sasol_pivot.columns = [f\"{region} SASOL\" for region in sasol_pivot.columns]\n",
        "sasol_pivot[\"Total SASOL\"] = sasol_pivot.sum(axis=1)\n",
        "\n",
        "# Format and save\n",
        "sasol_formatted = sasol_pivot.reset_index()\n",
        "sasol_formatted['Month'] = sasol_formatted['Month'].dt.strftime('%b-%y')\n",
        "sasol_formatted.to_csv(\"/content/Sasol_Formatted_Summary.csv\", index=False)\n",
        "\n",
        "# Preview\n",
        "print(sasol_formatted.head())\n",
        "\n"
      ],
      "metadata": {
        "colab": {
          "base_uri": "https://localhost:8080/"
        },
        "id": "AKVbP0-QDPY9",
        "outputId": "836f36d2-5a80-44ed-9667-9ffcffc7d35e"
      },
      "execution_count": 29,
      "outputs": [
        {
          "output_type": "stream",
          "name": "stdout",
          "text": [
            "    Month  CEN SASOL  EAS SASOL  KZN SASOL  LIM SASOL  MPU SASOL  NGA SASOL  \\\n",
            "0  Oct-23        NaN  1249267.0        NaN  2706508.0  4611671.0  7296567.0   \n",
            "1  Nov-23    34059.0  1110249.0        NaN  2315035.0  4693991.0  7312769.0   \n",
            "2  Dec-23    61371.0  1014425.0        NaN  2441895.0  5691932.0  7384750.0   \n",
            "3  Jan-24        NaN   589166.0   110194.0  3251297.0  5827534.0  8381438.0   \n",
            "4  Feb-24    37785.0   537718.0   795347.0  4419041.0  6474913.0  8789752.0   \n",
            "\n",
            "    SGA SASOL  SGS SASOL  WES SASOL  Total SASOL  \n",
            "0  13379258.0  3064941.0   935115.0   33243327.0  \n",
            "1  16752453.0  3026860.0   986675.0   36232091.0  \n",
            "2  15351274.0  1957107.0  1048598.0   34951352.0  \n",
            "3  17998690.0  1989808.0  1074711.0   39222838.0  \n",
            "4  16262338.0  1188728.0   869383.0   39375005.0  \n"
          ]
        },
        {
          "output_type": "stream",
          "name": "stderr",
          "text": [
            "<ipython-input-29-f59897f99ea3>:17: UserWarning: Could not infer format, so each element will be parsed individually, falling back to `dateutil`. To ensure parsing is consistent and as-expected, please specify a format.\n",
            "  sasol_df['Transaction Date'] = pd.to_datetime(sasol_df['Transaction Date'], errors='coerce')\n"
          ]
        }
      ]
    },
    {
      "cell_type": "code",
      "source": [
        "import matplotlib.pyplot as plt\n",
        "\n",
        "# Plot the bar chart\n",
        "plot_df.plot(kind='bar', figsize=(12, 6))\n",
        "plt.title(\"Total Fuel Quantity per Month by Provider\")\n",
        "plt.xlabel(\"Month\")\n",
        "plt.ylabel(\"Total Quantity\")\n",
        "plt.xticks(rotation=45)\n",
        "plt.tight_layout()\n",
        "plt.grid(True)\n",
        "plt.show()\n"
      ],
      "metadata": {
        "colab": {
          "base_uri": "https://localhost:8080/",
          "height": 607
        },
        "id": "gWEwjhefFp0n",
        "outputId": "7e92a725-344f-45bd-92f1-e117bcda7688"
      },
      "execution_count": 33,
      "outputs": [
        {
          "output_type": "display_data",
          "data": {
            "text/plain": [
              "<Figure size 1200x600 with 1 Axes>"
            ],
            "image/png": "[encoded data removed]"
          },
          "metadata": {}
        }
      ]
    }
  ]
}